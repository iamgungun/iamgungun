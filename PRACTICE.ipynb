{
  "nbformat": 4,
  "nbformat_minor": 0,
  "metadata": {
    "colab": {
      "provenance": []
    },
    "kernelspec": {
      "name": "python3",
      "display_name": "Python 3"
    },
    "language_info": {
      "name": "python"
    }
  },
  "cells": [
    {
      "cell_type": "code",
      "execution_count": 1,
      "metadata": {
        "colab": {
          "base_uri": "https://localhost:8080/"
        },
        "id": "O2v7IdxZvpke",
        "outputId": "3ec387e7-e179-42a9-c5cd-14b8b31f9358"
      },
      "outputs": [
        {
          "output_type": "stream",
          "name": "stdout",
          "text": [
            "hello AD\n"
          ]
        }
      ],
      "source": [
        "print('hello AD')\n"
      ]
    },
    {
      "cell_type": "code",
      "source": [
        "a = 'PRACHEETA'"
      ],
      "metadata": {
        "id": "Ia-8xrthwGHP"
      },
      "execution_count": 2,
      "outputs": []
    },
    {
      "cell_type": "code",
      "source": [
        "b = 'ATALANTA'"
      ],
      "metadata": {
        "id": "uW6NfI_8wlkc"
      },
      "execution_count": 3,
      "outputs": []
    },
    {
      "cell_type": "code",
      "source": [
        "c = 'TURF'"
      ],
      "metadata": {
        "id": "yZLi9uhtwsOX"
      },
      "execution_count": 4,
      "outputs": []
    },
    {
      "cell_type": "code",
      "source": [
        "d = 22"
      ],
      "metadata": {
        "id": "nGVLYVQ9wxRz"
      },
      "execution_count": 5,
      "outputs": []
    },
    {
      "cell_type": "code",
      "source": [
        "print(f'On {d} november, {a} and {b} are going to the {c} and fossils concert')"
      ],
      "metadata": {
        "colab": {
          "base_uri": "https://localhost:8080/"
        },
        "id": "IW6vJxhfw5vi",
        "outputId": "2853f6d1-7780-40a6-9262-549f134e3948"
      },
      "execution_count": 6,
      "outputs": [
        {
          "output_type": "stream",
          "name": "stdout",
          "text": [
            "On 22 november, PRACHEETA and ATALANTA are going to the TURF and fossils concert\n"
          ]
        }
      ]
    },
    {
      "cell_type": "code",
      "source": [
        "\n",
        "print('hello cutie', end='@')"
      ],
      "metadata": {
        "colab": {
          "base_uri": "https://localhost:8080/"
        },
        "id": "wQ_9tYwTxff3",
        "outputId": "17677d3d-e0e9-4d76-afe3-0d53c904643a"
      },
      "execution_count": 9,
      "outputs": [
        {
          "output_type": "stream",
          "name": "stdout",
          "text": [
            "hello cutie@"
          ]
        }
      ]
    },
    {
      "cell_type": "code",
      "source": [
        "a = 4"
      ],
      "metadata": {
        "id": "_iYSl9WjyuGY"
      },
      "execution_count": 10,
      "outputs": []
    },
    {
      "cell_type": "code",
      "source": [
        "b = 5"
      ],
      "metadata": {
        "id": "zRmMzFd11Mxd"
      },
      "execution_count": 11,
      "outputs": []
    },
    {
      "cell_type": "code",
      "source": [
        "(2*9)"
      ],
      "metadata": {
        "colab": {
          "base_uri": "https://localhost:8080/"
        },
        "id": "qrJo4Ky61QLP",
        "outputId": "e78f6b25-3af2-4f1d-ab33-670a13aa4092"
      },
      "execution_count": 13,
      "outputs": [
        {
          "output_type": "execute_result",
          "data": {
            "text/plain": [
              "18"
            ]
          },
          "metadata": {},
          "execution_count": 13
        }
      ]
    },
    {
      "cell_type": "code",
      "source": [
        "4*5"
      ],
      "metadata": {
        "colab": {
          "base_uri": "https://localhost:8080/"
        },
        "id": "rvpD6Byq3JDL",
        "outputId": "8aa79d03-b92f-4cd6-864c-a630e16837df"
      },
      "execution_count": 14,
      "outputs": [
        {
          "output_type": "execute_result",
          "data": {
            "text/plain": [
              "20"
            ]
          },
          "metadata": {},
          "execution_count": 14
        }
      ]
    },
    {
      "cell_type": "code",
      "source": [
        "r= (float(4))\n",
        "pi = 3.141\n",
        "area = pi*r*r\n",
        "print(type)"
      ],
      "metadata": {
        "colab": {
          "base_uri": "https://localhost:8080/"
        },
        "id": "gQs0V5et3XMQ",
        "outputId": "bc1e78f0-2c30-4d60-cb3b-18af10cefdcc"
      },
      "execution_count": 24,
      "outputs": [
        {
          "output_type": "stream",
          "name": "stdout",
          "text": [
            "50.256\n"
          ]
        }
      ]
    },
    {
      "cell_type": "code",
      "source": [
        "r= float(input())\n",
        "pi = 3.141\n",
        "p = 2*pi*r\n",
        "print (p)\n"
      ],
      "metadata": {
        "colab": {
          "base_uri": "https://localhost:8080/"
        },
        "id": "kP_gNKLe5N-Y",
        "outputId": "eff55736-5e7a-4945-88e7-2545708a4709"
      },
      "execution_count": 34,
      "outputs": [
        {
          "output_type": "stream",
          "name": "stdout",
          "text": [
            "4\n",
            "25.128\n"
          ]
        }
      ]
    },
    {
      "cell_type": "code",
      "source": [],
      "metadata": {
        "id": "aI6OYtH--B6j"
      },
      "execution_count": 34,
      "outputs": []
    },
    {
      "cell_type": "code",
      "source": [
        "h = float(input())\n",
        "p = float (input())\n",
        "b = float (input())\n",
        "lhs= p*p + b*b\n",
        "rhs = h*h\n",
        "if lhs==rhs:\n",
        "  print('right angle triangle')\n",
        "else:\n",
        "  print('not right angle triangle')\n"
      ],
      "metadata": {
        "colab": {
          "base_uri": "https://localhost:8080/"
        },
        "id": "PoVnzrbk-Ita",
        "outputId": "a160c096-3dd5-4a13-8234-c26f45e400d9"
      },
      "execution_count": 35,
      "outputs": [
        {
          "output_type": "stream",
          "name": "stdout",
          "text": [
            "5\n",
            "3\n",
            "4\n",
            "right angle triangle\n"
          ]
        }
      ]
    },
    {
      "cell_type": "code",
      "source": [
        "a = int(input())\n",
        "b = int(input())\n",
        "c = int(input())\n",
        "\n",
        "if a>b and a>c:\n",
        " print(a, 'is the largest')\n",
        "elif b>a and b>c:\n",
        "  print (b, 'is the largest')\n",
        "else:\n",
        "  print(c ,'is the largest')\n",
        "\n",
        "\n"
      ],
      "metadata": {
        "colab": {
          "base_uri": "https://localhost:8080/"
        },
        "id": "QmJGKpvwDv4t",
        "outputId": "bac57161-2ef0-410a-c2e2-5396b4645e81"
      },
      "execution_count": 45,
      "outputs": [
        {
          "output_type": "stream",
          "name": "stdout",
          "text": [
            "7\n",
            "6\n",
            "8\n",
            "8 is the largest\n"
          ]
        }
      ]
    },
    {
      "cell_type": "code",
      "source": [],
      "metadata": {
        "id": "oLdaW2AoF6c3"
      },
      "execution_count": 43,
      "outputs": []
    }
  ]
}